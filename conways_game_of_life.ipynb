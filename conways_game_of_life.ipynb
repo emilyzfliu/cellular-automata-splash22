{
 "cells": [
  {
   "cell_type": "markdown",
   "id": "2931fc66",
   "metadata": {},
   "source": [
    "## Conway's Game of Life\n",
    "In this notebook, you will implement the rules to Conway's Game of Life."
   ]
  },
  {
   "cell_type": "code",
   "execution_count": null,
   "id": "b3930832",
   "metadata": {},
   "outputs": [],
   "source": [
    "import numpy as np\n",
    "import matplotlib.pyplot as plt\n",
    "import matplotlib.animation as animation"
   ]
  },
  {
   "cell_type": "code",
   "execution_count": null,
   "id": "f3e48f98",
   "metadata": {},
   "outputs": [],
   "source": [
    "def randomGrid(N, prob):\n",
    "    return np.random.choice([1, 0], N*N, p=[prob, 1-prob]).reshape(N, N)"
   ]
  },
  {
   "cell_type": "markdown",
   "id": "6d34b232",
   "metadata": {},
   "source": [
    "## Rules\n",
    "Use the below code to implement the update rules. Recall the rules are as follows:\n",
    "\n",
    "0. Cells have two states: ALIVE (1) and DEAD (0)\n",
    "1. If cell is ALIVE:\n",
    "- Stay ALIVE if the cell has 2 or 3 ALIVE neighbors*\n",
    "- Become DEAD otherwise (underpopulation or overpopulation)\n",
    "2. If cell is DEAD:\n",
    "- Become ALIVE if the cell has exactly 3 ALIVE neighbors (reproduction)\n",
    "- Stay DEAD otherwise"
   ]
  },
  {
   "cell_type": "code",
   "execution_count": null,
   "id": "ba6b4931",
   "metadata": {},
   "outputs": [],
   "source": [
    "def update(frameNum, img, grid, N):\n",
    "    N = grid.shape[0]\n",
    "    newGrid = grid.copy()\n",
    "    \n",
    "    #####################################################################################\n",
    "    \n",
    "    # TODO: code the rules of Conway GOL for each cell of the N by N grid.\n",
    "    # Feel free to use whatever padding (zero padding, toroidal, etc) you wish.\n",
    "    \n",
    "    \n",
    "    #####################################################################################\n",
    "    \n",
    "    img.set_data(newGrid*255)\n",
    "    grid[:] = newGrid[:]\n",
    "    return img"
   ]
  },
  {
   "cell_type": "markdown",
   "id": "c991edf2",
   "metadata": {},
   "source": [
    "## Gliders\n",
    "The below code defines gliders, the most simple known spaceship in the GoL."
   ]
  },
  {
   "cell_type": "code",
   "execution_count": null,
   "id": "1bb1ebaf",
   "metadata": {},
   "outputs": [],
   "source": [
    "def addGlider(i, j, grid):\n",
    "    glider = np.array([[0, 0, 1],\n",
    "                       [1, 0, 1],\n",
    "                       [0, 1, 1]])\n",
    "    grid[i:i+3, j:j+3] = glider\n",
    "\n",
    "def addGosperGliderGun(i, j, grid):\n",
    " \n",
    "    \"\"\"adds a Gosper Glider Gun with top left\n",
    "       cell at (i, j)\"\"\"\n",
    "    gun = np.zeros(11*38).reshape(11, 38)\n",
    " \n",
    "    gun[5][1] = gun[5][2] = 1\n",
    "    gun[6][1] = gun[6][2] = 1\n",
    " \n",
    "    gun[3][13] = gun[3][14] = 1\n",
    "    gun[4][12] = gun[4][16] = 1\n",
    "    gun[5][11] = gun[5][17] = 1\n",
    "    gun[6][11] = gun[6][15] = gun[6][17] = gun[6][18] = 1\n",
    "    gun[7][11] = gun[7][17] = 1\n",
    "    gun[8][12] = gun[8][16] = 1\n",
    "    gun[9][13] = gun[9][14] = 1\n",
    " \n",
    "    gun[1][25] = 1\n",
    "    gun[2][23] = gun[2][25] = 1\n",
    "    gun[3][21] = gun[3][22] = 1\n",
    "    gun[4][21] = gun[4][22] = 1\n",
    "    gun[5][21] = gun[5][22] = 1\n",
    "    gun[6][23] = gun[6][25] = 1\n",
    "    gun[7][25] = 1\n",
    " \n",
    "    gun[3][35] = gun[3][36] = 1\n",
    "    gun[4][35] = gun[4][36] = 1\n",
    " \n",
    "    grid[i:i+11, j:j+38] = gun"
   ]
  },
  {
   "cell_type": "code",
   "execution_count": null,
   "id": "5fe7bb8e",
   "metadata": {},
   "outputs": [],
   "source": [
    "#####################################################################################\n",
    "\n",
    "# Variables - feel free to change these!\n",
    "\n",
    "N = 100\n",
    "prob = 0.2\n",
    "mov_file ='conway_GoL.gif'\n",
    "n_steps = 100\n",
    "updateInterval = 50\n",
    "\n",
    "#####################################################################################\n",
    "\n",
    "# Change these to add gliders and gospers into your \n",
    "\n",
    "glider = False\n",
    "gosper = False\n",
    "\n",
    "#####################################################################################\n",
    "\n",
    "# declare grid\n",
    "grid = np.zeros((N, N))\n",
    "\n",
    "if glider:\n",
    "    addGlider(1, 1, grid)\n",
    "elif gosper:\n",
    "    addGosperGliderGun(10, 10, grid)\n",
    "else:\n",
    "    grid = randomGrid(N, prob)\n",
    "    \n",
    "plt.figure(figsize=(10,10))\n",
    "fig, ax = plt.subplots()\n",
    "\n",
    "img = ax.imshow(grid, interpolation='nearest')\n",
    "plt.show()\n",
    "ani = animation.FuncAnimation(fig, update, fargs=(img, grid, N, ),\n",
    "                              frames = 100,\n",
    "                              interval=updateInterval,\n",
    "                              save_count=50)\n",
    "\n",
    "ani.save(mov_file, fps=10)"
   ]
  }
 ],
 "metadata": {
  "kernelspec": {
   "display_name": "Python 3 (ipykernel)",
   "language": "python",
   "name": "python3"
  },
  "language_info": {
   "codemirror_mode": {
    "name": "ipython",
    "version": 3
   },
   "file_extension": ".py",
   "mimetype": "text/x-python",
   "name": "python",
   "nbconvert_exporter": "python",
   "pygments_lexer": "ipython3",
   "version": "3.9.7"
  }
 },
 "nbformat": 4,
 "nbformat_minor": 5
}
