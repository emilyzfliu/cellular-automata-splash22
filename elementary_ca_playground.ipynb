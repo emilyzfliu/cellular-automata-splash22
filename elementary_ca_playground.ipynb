{
 "cells": [
  {
   "cell_type": "markdown",
   "metadata": {},
   "source": [
    "## Elementary CA Playground\n",
    "In this notebook, you will implement an elementary cellular automata."
   ]
  },
  {
   "cell_type": "code",
   "execution_count": null,
   "metadata": {},
   "outputs": [],
   "source": [
    "import numpy as np\n",
    "import matplotlib.pyplot as plt"
   ]
  },
  {
   "cell_type": "markdown",
   "metadata": {},
   "source": [
    "## Defining Rules\n",
    "Your first step is to define the transition rule for the CA. Recall that elementary CA are defined by a rule (numbered 0 through 255) that determine the state transitions of specific cells. The number of the rule can be written as an 8-digit binary number 0bABCDEFGH.\n",
    "\n",
    "The state transitions for cell $c$ are as follows:\n",
    "\n",
    "| previous state ($c_t$ and neighbors) |next state ($c_{t+1}$)|\n",
    "| :-----------------------------------: | :--------------------------:|\n",
    "| 111 | A |\n",
    "| 110 | B |\n",
    "| 101 | C |\n",
    "| 100 | D |\n",
    "| 011 | E |\n",
    "| 010 | F |\n",
    "| 001 | G |\n",
    "| 000 | H |\n"
   ]
  },
  {
   "cell_type": "code",
   "execution_count": null,
   "metadata": {},
   "outputs": [],
   "source": [
    "def get_rule(num):\n",
    "    # Make sure that num is a valid elementary CA rule.\n",
    "    assert 0 <= num < 256\n",
    "    inputs = [\n",
    "        (1,1,1),\n",
    "        (1,1,0),\n",
    "        (1,0,1),\n",
    "        (1,0,0),\n",
    "        (0,1,1),\n",
    "        (0,1,0),\n",
    "        (0,0,1),\n",
    "        (0,0,0)\n",
    "    ]\n",
    "    \n",
    "    #####################################################################################\n",
    "    \n",
    "    # TODO: given r, compute the binary representation of r to get the transition rule.\n",
    "    outputs = None\n",
    "    \n",
    "    # TODO: define mapping, a dict that maps from inputs to outputs\n",
    "    mapping = None\n",
    "    \n",
    "    #####################################################################################\n",
    "    \n",
    "    \n",
    "    mapping[\"name\"] = \"Rule %d\" % (num)\n",
    "    return mapping"
   ]
  },
  {
   "cell_type": "markdown",
   "metadata": {},
   "source": [
    "## State updates\n",
    "Now, we use this rule to update the cellular automata. In the function `next_state`, you are given a board (list) of length n at time t and a rule number. Return the same board (a length n list) at time t+1."
   ]
  },
  {
   "cell_type": "code",
   "execution_count": null,
   "metadata": {},
   "outputs": [],
   "source": [
    "#####################################################################################\n",
    "\n",
    "# TODO: compute the next state\n",
    "\n",
    "def next_state(board, num):\n",
    "    pass\n",
    "\n",
    "#####################################################################################"
   ]
  },
  {
   "cell_type": "markdown",
   "metadata": {},
   "source": [
    "## Generating the board\n",
    "Almost there! Now, use the previous function to generate `num_iterations` timesteps of the cellular automata."
   ]
  },
  {
   "cell_type": "code",
   "execution_count": null,
   "metadata": {},
   "outputs": [],
   "source": [
    "def generate_map(initial_board, num, num_iterations=100):\n",
    "    if isinstance(initial_board, list):\n",
    "        board = np.array(initial_board)\n",
    "    \n",
    "    board = np.pad(board, (num_iterations, num_iterations), 'constant', constant_values=(0,0))\n",
    "    \n",
    "    rows = [board]\n",
    "    \n",
    "    #####################################################################################\n",
    "\n",
    "    # TODO: generate the CA for the given number of iterations by calling next_state\n",
    "    \n",
    "    #####################################################################################\n",
    "\n",
    "    rows = np.array(rows)\n",
    "    return rows"
   ]
  },
  {
   "cell_type": "markdown",
   "metadata": {},
   "source": [
    "## Visualization\n",
    "And you're done! Run the code below to generate the elementary CA of your choosing."
   ]
  },
  {
   "cell_type": "code",
   "execution_count": null,
   "metadata": {},
   "outputs": [],
   "source": [
    "#####################################################################################\n",
    "\n",
    "# Modify these variables to generate different CA.\n",
    "\n",
    "init_state = [0,1,0]\n",
    "rulenum = 30\n",
    "num_iterations = 100\n",
    "\n",
    "#####################################################################################\n",
    "\n",
    "board = generate_map(init_state, rulenum, num_iterations)\n",
    "\n",
    "plt.figure(figsize=(8,10))\n",
    "plt.imshow(board, cmap=\"Greys\")\n",
    "plt.axis(\"off\")\n",
    "plt.title(f'Rule {rulenum}', fontsize=14)\n",
    "plt.show()"
   ]
  },
  {
   "cell_type": "code",
   "execution_count": null,
   "metadata": {},
   "outputs": [],
   "source": []
  }
 ],
 "metadata": {
  "kernelspec": {
   "display_name": "Python 3 (ipykernel)",
   "language": "python",
   "name": "python3"
  },
  "language_info": {
   "codemirror_mode": {
    "name": "ipython",
    "version": 3
   },
   "file_extension": ".py",
   "mimetype": "text/x-python",
   "name": "python",
   "nbconvert_exporter": "python",
   "pygments_lexer": "ipython3",
   "version": "3.9.7"
  },
  "vscode": {
   "interpreter": {
    "hash": "aee8b7b246df8f9039afb4144a1f6fd8d2ca17a180786b69acc140d282b71a49"
   }
  }
 },
 "nbformat": 4,
 "nbformat_minor": 2
}
